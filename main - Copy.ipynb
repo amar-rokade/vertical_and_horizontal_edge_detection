{
 "cells": [
  {
   "cell_type": "code",
   "execution_count": 8,
   "metadata": {},
   "outputs": [],
   "source": [
    "import numpy as np\n",
    "from layers import   model_forward, conv_forward, backward,conv_backward\n",
    "from load_weights import initilization\n",
    "\n",
    "from train import  make_datasets,update_params,predict\n"
   ]
  },
  {
   "cell_type": "code",
   "execution_count": 9,
   "metadata": {
    "tags": []
   },
   "outputs": [
    {
     "output_type": "stream",
     "name": "stdout",
     "text": "X_train shape is :  (1000, 8, 8)\nY_train shape is :  (1000, 1)\n"
    }
   ],
   "source": [
    "X,Y = make_datasets() # get dataset from train\n",
    "print('X_train shape is : ',X.shape)\n",
    "print('Y_train shape is : ',Y.shape)"
   ]
  },
  {
   "cell_type": "code",
   "execution_count": 10,
   "metadata": {},
   "outputs": [],
   "source": [
    "def cost(Y_pred,Y):\n",
    "    c = (1/Y.shape[0]) * np.sum(Y * np.log(Y_pred) + (1-Y) * np.log(1-Y_pred))\n",
    "    return c"
   ]
  },
  {
   "cell_type": "code",
   "execution_count": 11,
   "metadata": {},
   "outputs": [],
   "source": [
    "def model(X,Y,learning_rate,num_iter):\n",
    "   \n",
    "    params = initilization()\n",
    "    for i in range(num_iter):\n",
    "        #conv layer forward\n",
    "        Z1,cache1 = conv_forward(X,params[\"W1\"],params[\"b1\"],stride=1,pad=2)\n",
    "        Z2,cache2 = conv_forward(Z1,params[\"W2\"],params[\"b2\"],stride=1,pad=2)\n",
    "\n",
    "        #input for dense layer\n",
    "        Z2_flatten = np.reshape(Z2,newshape=(Z2.shape[0],-1))\n",
    "\n",
    "        #dense layer forward\n",
    "        cache3 = model_forward(Z2_flatten,params)\n",
    "        loss = cost(cache3['A4'],Y)\n",
    "\n",
    "        #backprop for dense\n",
    "        grad,dZ2 = backward(Y,Z2_flatten, params,cache3)\n",
    "\n",
    "        #backprop for cnn\n",
    "        dZ2 = np.reshape(dZ2,(dZ2.shape[0],12,12))\n",
    "        dA_prev2, grad['dW2'], grad['db2'] = conv_backward(dZ2,params[\"W2\"],params[\"b2\"],Z1,stride=1,pad=2)\n",
    "        dA_prev1, grad['dW1'], grad['db1']  = conv_backward(dA_prev2,params[\"W1\"],params[\"b1\"],X,stride=1,pad=2)\n",
    "        \n",
    "        params = update_params(params, grad, learning_rate)\n",
    "        print(loss)\n",
    "    return params\n",
    "             "
   ]
  },
  {
   "cell_type": "code",
   "execution_count": 12,
   "metadata": {},
   "outputs": [],
   "source": [
    "# make dataset in standarization\n",
    "# Min-Max scaling\n",
    "X_train = (X- X.min()) / (X.max() - X.min())"
   ]
  },
  {
   "cell_type": "code",
   "execution_count": null,
   "metadata": {
    "tags": []
   },
   "outputs": [],
   "source": [
    "params = model(X_train,Y,learning_rate=0.0004 ,num_iter=15)\n"
   ]
  },
  {
   "cell_type": "code",
   "execution_count": null,
   "metadata": {},
   "outputs": [],
   "source": [
    "params"
   ]
  },
  {
   "cell_type": "code",
   "execution_count": 101,
   "metadata": {},
   "outputs": [],
   "source": [
    "# for Testing we generate new dataset \n",
    "X_test,Y_test = make_datasets() \n",
    "\n",
    "# normalize tha test dataset before predicting\n",
    "X_test = (X_test- X_test.min()) / (X_test.max() - X_test.min())"
   ]
  },
  {
   "cell_type": "code",
   "execution_count": 102,
   "metadata": {},
   "outputs": [],
   "source": [
    "Y_pred = predict(X_test,params)  # test predict"
   ]
  },
  {
   "cell_type": "code",
   "execution_count": 103,
   "metadata": {
    "tags": []
   },
   "outputs": [
    {
     "output_type": "stream",
     "name": "stdout",
     "text": "[1.] [1.]\n"
    }
   ],
   "source": [
    "print(Y_pred[254],Y_test[254])  # just for conformation work well or not"
   ]
  },
  {
   "cell_type": "code",
   "execution_count": 104,
   "metadata": {
    "tags": []
   },
   "outputs": [
    {
     "output_type": "stream",
     "name": "stdout",
     "text": "0.751\n"
    }
   ],
   "source": [
    "\n",
    "## for test accuracy  I used sklearn just for checking other code all in plane numpy\n",
    "from sklearn.metrics import accuracy_score \n",
    "acc = accuracy_score(Y_pred,Y_test)\n",
    "print(acc)"
   ]
  },
  {
   "cell_type": "code",
   "execution_count": null,
   "metadata": {},
   "outputs": [],
   "source": []
  },
  {
   "cell_type": "code",
   "execution_count": null,
   "metadata": {},
   "outputs": [],
   "source": []
  }
 ],
 "metadata": {
  "kernelspec": {
   "display_name": "Python 3.8.2 64-bit ('myweb': venv)",
   "language": "python",
   "name": "python_defaultSpec_1599665519730"
  },
  "language_info": {
   "codemirror_mode": {
    "name": "ipython",
    "version": 3
   },
   "file_extension": ".py",
   "mimetype": "text/x-python",
   "name": "python",
   "nbconvert_exporter": "python",
   "pygments_lexer": "ipython3",
   "version": "3.8.2-final"
  }
 },
 "nbformat": 4,
 "nbformat_minor": 2
}